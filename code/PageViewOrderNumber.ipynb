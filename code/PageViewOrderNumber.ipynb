{
  "nbformat": 4,
  "nbformat_minor": 0,
  "metadata": {
    "colab": {
      "provenance": [],
      "gpuType": "V28"
    },
    "kernelspec": {
      "name": "python3",
      "display_name": "Python 3"
    },
    "language_info": {
      "name": "python"
    },
    "accelerator": "TPU"
  },
  "cells": [
    {
      "cell_type": "code",
      "execution_count": 3,
      "metadata": {
        "colab": {
          "base_uri": "https://localhost:8080/"
        },
        "id": "TWDm-x4ox_tz",
        "outputId": "388ef615-1395-4647-f204-560ef0f1237f"
      },
      "outputs": [
        {
          "output_type": "stream",
          "name": "stdout",
          "text": [
            "Requirement already satisfied: gdown in /usr/local/lib/python3.11/dist-packages (5.2.0)\n",
            "Requirement already satisfied: beautifulsoup4 in /usr/local/lib/python3.11/dist-packages (from gdown) (4.13.3)\n",
            "Requirement already satisfied: filelock in /usr/local/lib/python3.11/dist-packages (from gdown) (3.18.0)\n",
            "Requirement already satisfied: requests[socks] in /usr/local/lib/python3.11/dist-packages (from gdown) (2.32.3)\n",
            "Requirement already satisfied: tqdm in /usr/local/lib/python3.11/dist-packages (from gdown) (4.67.1)\n",
            "Requirement already satisfied: soupsieve>1.2 in /usr/local/lib/python3.11/dist-packages (from beautifulsoup4->gdown) (2.6)\n",
            "Requirement already satisfied: typing-extensions>=4.0.0 in /usr/local/lib/python3.11/dist-packages (from beautifulsoup4->gdown) (4.12.2)\n",
            "Requirement already satisfied: charset-normalizer<4,>=2 in /usr/local/lib/python3.11/dist-packages (from requests[socks]->gdown) (3.4.1)\n",
            "Requirement already satisfied: idna<4,>=2.5 in /usr/local/lib/python3.11/dist-packages (from requests[socks]->gdown) (3.10)\n",
            "Requirement already satisfied: urllib3<3,>=1.21.1 in /usr/local/lib/python3.11/dist-packages (from requests[socks]->gdown) (2.3.0)\n",
            "Requirement already satisfied: certifi>=2017.4.17 in /usr/local/lib/python3.11/dist-packages (from requests[socks]->gdown) (2025.1.31)\n",
            "Requirement already satisfied: PySocks!=1.5.7,>=1.5.6 in /usr/local/lib/python3.11/dist-packages (from requests[socks]->gdown) (1.7.1)\n"
          ]
        }
      ],
      "source": [
        "!pip install gdown\n",
        "import pandas as pd\n",
        "import gdown\n",
        "import numpy as np\n",
        "import matplotlib.pyplot as plt\n",
        "import seaborn as sns"
      ]
    },
    {
      "cell_type": "code",
      "source": [
        "from google.colab import drive\n",
        "drive.mount('/content/drive', force_remount=True)"
      ],
      "metadata": {
        "id": "e0MJ9ee6dHky",
        "colab": {
          "base_uri": "https://localhost:8080/"
        },
        "outputId": "8507d8cc-e7ae-4de0-a5a6-6e96fe7a0bbd"
      },
      "execution_count": 4,
      "outputs": [
        {
          "output_type": "stream",
          "name": "stdout",
          "text": [
            "Mounted at /content/drive\n"
          ]
        }
      ]
    },
    {
      "cell_type": "code",
      "source": [
        "file_path = '/content/drive/MyDrive/dataset/data_2024-10-01.parquet'\n",
        "\n",
        "columns = ['page_view_order_number', 'randPAS_user_agent_id', 'randPAS_session_id','ua_is_bot']\n",
        "\n",
        "try:\n",
        "    df = pd.read_parquet(file_path, columns = columns)\n",
        "    print(f\"Файл {file_path} успешно прочитан!\")\n",
        "    print(\"\\nПервые 5 строк данных:\")\n",
        "    print(df.head())\n",
        "except Exception as e:\n",
        "    print(f\"Ошибка при чтении файла: {e}\")"
      ],
      "metadata": {
        "colab": {
          "base_uri": "https://localhost:8080/"
        },
        "id": "ylBaVmy2bhCn",
        "outputId": "c8c4d1fc-e3ae-4bdb-beb1-a2cd898c8574"
      },
      "execution_count": 5,
      "outputs": [
        {
          "output_type": "stream",
          "name": "stdout",
          "text": [
            "Файл /content/drive/MyDrive/dataset/data_2024-10-01.parquet успешно прочитан!\n",
            "\n",
            "Первые 5 строк данных:\n",
            "   page_view_order_number                   randPAS_user_agent_id  \\\n",
            "0                       1  BMGo7*{(%<mrB%:<:`vyykg<sf,f<}qM6;+Iq4   \n",
            "1                       1  BMGo7*{(%<mrB%:<:`vyykg<sf,f<}qM6;+Iq4   \n",
            "2                       1  BMGo7*{(%<mrB%:<:`vyykg<sf,f<}qM6;+Iq4   \n",
            "3                       1  \\g!R|]g5n4v5ran]'9X=]\\PW<e_\\T iM0FK8;o   \n",
            "4                       1  `/g9`X*'MPj_JMQa#b2?],clayli;|BlaPZj\"j   \n",
            "\n",
            "                           randPAS_session_id  ua_is_bot  \n",
            "0  4%XDie;J=kgs0/~wXc+{8e,9UF<D5^Eq'}s;m!nsUi        NaN  \n",
            "1  4%XDie;J=kgs0/~wXc+{8e,9UF<D5^Eq'}s;m!nsUi        NaN  \n",
            "2  4%XDie;J=kgs0/~wXc+{8e,9UF<D5^Eq'}s;m!nsUi        NaN  \n",
            "3  UYQTIra=#IHtS;IE6h)(K^giZsDO%rd$CGECQ\"0kK<        NaN  \n",
            "4  b7:/-xcsHQ[xz=1q|^Wxn:+W#OewS7hw8l=O%/6BD>        NaN  \n"
          ]
        }
      ]
    },
    {
      "cell_type": "code",
      "source": [
        "# Фильтрация:  не 1\n",
        "df_new = df[(df['ua_is_bot'] != 1)]\n",
        "print(df_new)"
      ],
      "metadata": {
        "colab": {
          "base_uri": "https://localhost:8080/"
        },
        "id": "_21SSjPaFH-a",
        "outputId": "d62f8e07-387d-4a18-f3bd-49ab1d032bb1"
      },
      "execution_count": 6,
      "outputs": [
        {
          "output_type": "stream",
          "name": "stdout",
          "text": [
            "          page_view_order_number                   randPAS_user_agent_id  \\\n",
            "0                              1  BMGo7*{(%<mrB%:<:`vyykg<sf,f<}qM6;+Iq4   \n",
            "1                              1  BMGo7*{(%<mrB%:<:`vyykg<sf,f<}qM6;+Iq4   \n",
            "2                              1  BMGo7*{(%<mrB%:<:`vyykg<sf,f<}qM6;+Iq4   \n",
            "3                              1  \\g!R|]g5n4v5ran]'9X=]\\PW<e_\\T iM0FK8;o   \n",
            "4                              1  `/g9`X*'MPj_JMQa#b2?],clayli;|BlaPZj\"j   \n",
            "...                          ...                                     ...   \n",
            "12692788                      43  eY72r9^5WS'>MkwceBtdiJ&3&9 0_XGT4=sDyv   \n",
            "12692789                       3  oQpS1&)rh_o=;eQ%G^|sGSP.,BD{LefKE~FX@e   \n",
            "12692790                       2  %T.,!D*NN+*{UJakm5C}G7+Gl x;2qT;F]0B!~   \n",
            "12692791                      20  Fsmv~pw[y{na?W|k{N4AG%Q{_6}F\" |+_*l1wa   \n",
            "12692792                       8  AJN%u##`/Ek&CbP`U%DuKG 2n7n;/g\"}kGB:Bb   \n",
            "\n",
            "                                  randPAS_session_id  ua_is_bot  \n",
            "0         4%XDie;J=kgs0/~wXc+{8e,9UF<D5^Eq'}s;m!nsUi        NaN  \n",
            "1         4%XDie;J=kgs0/~wXc+{8e,9UF<D5^Eq'}s;m!nsUi        NaN  \n",
            "2         4%XDie;J=kgs0/~wXc+{8e,9UF<D5^Eq'}s;m!nsUi        NaN  \n",
            "3         UYQTIra=#IHtS;IE6h)(K^giZsDO%rd$CGECQ\"0kK<        NaN  \n",
            "4         b7:/-xcsHQ[xz=1q|^Wxn:+W#OewS7hw8l=O%/6BD>        NaN  \n",
            "...                                              ...        ...  \n",
            "12692788  \\QL>K'ZB]^q~,qO|?;i5MP{)V.OW\\Sr`Z?yyuz2<`o        NaN  \n",
            "12692789  l7U\"P@o>7e9V/[@#L88>lc9I8-wHY8L+N&GXK&G@Du        NaN  \n",
            "12692790  l5@x?x3DiHp`ntb^&~U$`>&f$b-UyBM#q-E+}(eAaQ        NaN  \n",
            "12692791  l,o6s=ksl~VRYA~B~3N`2w/7;_=J-j+XbT9OoO/pj~        NaN  \n",
            "12692792  )8UNL?vK!PMq2l^I%Z|0AbPIg:<lJ(7GY= Md{pr-*        NaN  \n",
            "\n",
            "[12486800 rows x 4 columns]\n"
          ]
        }
      ]
    },
    {
      "cell_type": "code",
      "source": [
        "df_new.info()"
      ],
      "metadata": {
        "colab": {
          "base_uri": "https://localhost:8080/"
        },
        "id": "dWsv6ZbPkvpR",
        "outputId": "96f16232-ad0c-4653-a622-e6fe63a3f0f9"
      },
      "execution_count": 8,
      "outputs": [
        {
          "output_type": "stream",
          "name": "stdout",
          "text": [
            "<class 'pandas.core.frame.DataFrame'>\n",
            "Index: 12486800 entries, 0 to 12692792\n",
            "Data columns (total 4 columns):\n",
            " #   Column                  Dtype  \n",
            "---  ------                  -----  \n",
            " 0   page_view_order_number  uint32 \n",
            " 1   randPAS_user_agent_id   object \n",
            " 2   randPAS_session_id      object \n",
            " 3   ua_is_bot               float64\n",
            "dtypes: float64(1), object(2), uint32(1)\n",
            "memory usage: 428.7+ MB\n"
          ]
        }
      ]
    },
    {
      "cell_type": "code",
      "source": [
        "def detect_page_number_anomalies(\n",
        "    df,\n",
        "    user_id_column='randPAS_user_agent_id',\n",
        "    session_id_column='randPAS_session_id'\n",
        "):\n",
        "    \"\"\"\n",
        "    Находит аномалии в нумерации page_view_order_number:\n",
        "    - reset: текущий номер < предыдущего (например, 3 → 1),\n",
        "    - skip: текущий номер > предыдущего + 1 (например, 2 → 4),\n",
        "    - duplicate: текущий номер == предыдущему (например, 2 → 2).\n",
        "    \"\"\"\n",
        "\n",
        "    # Создание пустого списка для хранения найденных аномалий\n",
        "    anomalies = []\n",
        "\n",
        "    # Группировка данных по комбинации user_id и session_id:\n",
        "    # df.groupby() создает итератор по группам\n",
        "    # Каждая группа содержит записи для одного пользователя в одной сессии\n",
        "\n",
        "\n",
        "    # Извлечение значений номеров просмотров страниц для текущей группы (пользователь+сессия)\n",
        "    for (user_id, session_id), group in df.groupby([user_id_column, session_id_column]):\n",
        "        page_numbers = group['page_view_order_number'].values\n",
        "\n",
        "        # Цикл по номерам просмотров (начиная со второго элемента)\n",
        "        for i in range(1, len(page_numbers)):\n",
        "            prev_num = page_numbers[i-1] # Получение предыдущего и текущего номеров просмотра\n",
        "            current_num = page_numbers[i]\n",
        "\n",
        "            # Проверка на сброс нумерации (reset): если текущий номер меньше предыдущего - добавляем запись об аномалии в список\n",
        "            if current_num < prev_num:\n",
        "                anomalies.append({\n",
        "                    'user_id': user_id,\n",
        "                    'session_id': session_id,\n",
        "                    'event_index': i,\n",
        "                    'page_view_order_number': current_num,\n",
        "                    'previous_number': prev_num,\n",
        "                    'anomaly_type': 'reset'\n",
        "                })\n",
        "\n",
        "            # Проверка на дублирование (duplicate): если текущий номер равен предыдущему - добавляем запись об аномалии\n",
        "            elif current_num == prev_num:\n",
        "                anomalies.append({\n",
        "                    'user_id': user_id,\n",
        "                    'session_id': session_id,\n",
        "                    'event_index': i,\n",
        "                    'page_view_order_number': current_num,\n",
        "                    'previous_number': prev_num,\n",
        "                    'anomaly_type': 'duplicate'\n",
        "                })\n",
        "\n",
        "            # Проверка на пропуск (skip): если разница между текущим и предыдущим номером > 1 - добавляем запись об аномалии\n",
        "            elif current_num - prev_num > 1:\n",
        "                anomalies.append({\n",
        "                    'user_id': user_id,\n",
        "                    'session_id': session_id,\n",
        "                    'event_index': i,\n",
        "                    'page_view_order_number': current_num,\n",
        "                    'previous_number': prev_num,\n",
        "                    'anomaly_type': 'skip'\n",
        "                })\n",
        "    # Преобразование списка аномалий в DataFrame и возврат результата\n",
        "    return pd.DataFrame(anomalies)\n",
        "\n",
        "anomalies_df = detect_page_number_anomalies(df_new)"
      ],
      "metadata": {
        "id": "rYazLHEeyclj"
      },
      "execution_count": 9,
      "outputs": []
    },
    {
      "cell_type": "markdown",
      "source": [],
      "metadata": {
        "id": "eKyW2ohAJ0c4"
      }
    },
    {
      "cell_type": "code",
      "source": [
        "print(anomalies_df.head(5))"
      ],
      "metadata": {
        "colab": {
          "base_uri": "https://localhost:8080/"
        },
        "id": "WrIaMKDA0JEd",
        "outputId": "19862b4c-cf54-4126-eebf-562c1df46f34"
      },
      "execution_count": 10,
      "outputs": [
        {
          "output_type": "stream",
          "name": "stdout",
          "text": [
            "                                  user_id  \\\n",
            "0     +y.eYW:y]^B@p)u}a/^dnt(<eDmm>.`1P%H   \n",
            "1     +y.eYW:y]^B@p)u}a/^dnt(<eDmm>.`1P%H   \n",
            "2     +y.eYW:y]^B@p)u}a/^dnt(<eDmm>.`1P%H   \n",
            "3     +y.eYW:y]^B@p)u}a/^dnt(<eDmm>.`1P%H   \n",
            "4     +y.eYW:y]^B@p)u}a/^dnt(<eDmm>.`1P%H   \n",
            "\n",
            "                                   session_id  event_index  \\\n",
            "0  4z6x8$}JOE&>~`U:qo;%spYLp7sBakI,Fp`aISr!22            1   \n",
            "1  4z6x8$}JOE&>~`U:qo;%spYLp7sBakI,Fp`aISr!22            2   \n",
            "2  4z6x8$}JOE&>~`U:qo;%spYLp7sBakI,Fp`aISr!22            3   \n",
            "3  4z6x8$}JOE&>~`U:qo;%spYLp7sBakI,Fp`aISr!22            4   \n",
            "4  4z6x8$}JOE&>~`U:qo;%spYLp7sBakI,Fp`aISr!22            5   \n",
            "\n",
            "   page_view_order_number  previous_number anomaly_type  \n",
            "0                       3                3    duplicate  \n",
            "1                       3                3    duplicate  \n",
            "2                       3                3    duplicate  \n",
            "3                       3                3    duplicate  \n",
            "4                       3                3    duplicate  \n"
          ]
        }
      ]
    },
    {
      "cell_type": "code",
      "source": [
        "\n",
        "a=detect_page_number_anomalies(df)\n",
        "print(f'без учета ботов: {len(a)}')\n",
        "print(f'c учетом {len(anomalies_df)}')"
      ],
      "metadata": {
        "colab": {
          "base_uri": "https://localhost:8080/"
        },
        "id": "QwftoPdW0feB",
        "outputId": "f7ef179d-fcef-439d-92aa-1e0be8dd826a"
      },
      "execution_count": 16,
      "outputs": [
        {
          "output_type": "stream",
          "name": "stdout",
          "text": [
            "без учета ботов: 9820720\n",
            "c учетом 9616651\n"
          ]
        }
      ]
    },
    {
      "cell_type": "code",
      "source": [
        "# Считаем количество каждого типа аномалий\n",
        "anomaly_counts = anomalies_df[\"anomaly_type\"].value_counts()\n",
        "total = sum(anomaly_counts)\n",
        "percentages = [f'{(count/total)*100:.1f}%' for count in anomaly_counts]\n",
        "\n",
        "# Создаем подписи для легенды (название + процент)\n",
        "legend_labels = [f\"{label} ({pct})\" for label, pct in zip(anomaly_counts.index, percentages)]\n",
        "\n",
        "# Рисуем круговую диаграмму\n",
        "plt.figure(figsize=(8, 6))\n",
        "patches = plt.pie(\n",
        "    anomaly_counts,\n",
        "    labels=None,  # Полностью убираем все подписи на диаграмме\n",
        "    colors=[\"#FF6B6B\", \"#4ECDC4\", \"#FFD166\"],\n",
        "    startangle=90,\n",
        "    pctdistance=0.8  # Отодвигаем проценты (если оставим autopct)\n",
        ")[0]  # Берем только патчи (сектора диаграммы)\n",
        "\n",
        "plt.title(\"Распределение типов аномалий: \")\n",
        "\n",
        "# Добавляем легенду с процентами\n",
        "plt.legend(\n",
        "    patches,\n",
        "    legend_labels,  # Используем наши составные подписи\n",
        "    title=\"Типы аномалий\",\n",
        "    loc=\"center left\",\n",
        "    bbox_to_anchor=(1, 0.5),\n",
        "    frameon=False\n",
        ")\n",
        "\n",
        "# Убираем процентные подписи с самой диаграммы (если они есть)\n",
        "plt.gca().set_autoscale_on(False)\n",
        "\n",
        "plt.tight_layout()\n",
        "plt.show()"
      ],
      "metadata": {
        "colab": {
          "base_uri": "https://localhost:8080/",
          "height": 607
        },
        "id": "87nZTULx5GNJ",
        "outputId": "596cdfa8-8a3e-49fa-80ab-1a21a8636775"
      },
      "execution_count": 13,
      "outputs": [
        {
          "output_type": "display_data",
          "data": {
            "text/plain": [
              "<Figure size 800x600 with 1 Axes>"
            ],
            "image/png": "[encoded data removed]"
          },
          "metadata": {}
        }
      ]
    },
    {
      "cell_type": "code",
      "source": [
        "from IPython.display import display\n",
        "\n",
        "# Выбираем случайные 5 аномалий\n",
        "sample_anomalies = anomalies_df.sample(5, random_state=42)\n",
        "\n",
        "# Красивое отображение\n",
        "display(\n",
        "    sample_anomalies[\n",
        "        [\"user_id\", \"session_id\", \"event_index\", \"previous_number\", \"page_view_order_number\", \"anomaly_type\"]\n",
        "    ].style.set_caption(\"Примеры аномалий\")\n",
        ")"
      ],
      "metadata": {
        "colab": {
          "base_uri": "https://localhost:8080/",
          "height": 224
        },
        "id": "M4p9lcHtAKRn",
        "outputId": "cddd4e26-ec6b-43fa-b705-d44335e25a69"
      },
      "execution_count": 14,
      "outputs": [
        {
          "output_type": "display_data",
          "data": {
            "text/plain": [
              "<pandas.io.formats.style.Styler at 0x7fc8219d8410>"
            ],
            "text/html": [
              "<style type=\"text/css\">\n",
              "</style>\n",
              "<table id=\"T_edd8b\" class=\"dataframe\">\n",
              "  <caption>Примеры аномалий</caption>\n",
              "  <thead>\n",
              "    <tr>\n",
              "      <th class=\"blank level0\" >&nbsp;</th>\n",
              "      <th id=\"T_edd8b_level0_col0\" class=\"col_heading level0 col0\" >user_id</th>\n",
              "      <th id=\"T_edd8b_level0_col1\" class=\"col_heading level0 col1\" >session_id</th>\n",
              "      <th id=\"T_edd8b_level0_col2\" class=\"col_heading level0 col2\" >event_index</th>\n",
              "      <th id=\"T_edd8b_level0_col3\" class=\"col_heading level0 col3\" >previous_number</th>\n",
              "      <th id=\"T_edd8b_level0_col4\" class=\"col_heading level0 col4\" >page_view_order_number</th>\n",
              "      <th id=\"T_edd8b_level0_col5\" class=\"col_heading level0 col5\" >anomaly_type</th>\n",
              "    </tr>\n",
              "  </thead>\n",
              "  <tbody>\n",
              "    <tr>\n",
              "      <th id=\"T_edd8b_level0_row0\" class=\"row_heading level0 row0\" >1436745</th>\n",
              "      <td id=\"T_edd8b_row0_col0\" class=\"data row0 col0\" >/0-\\A,$1 odA%W3\\)*+Ngzl';~?A(:85x=rh;l</td>\n",
              "      <td id=\"T_edd8b_row0_col1\" class=\"data row0 col1\" >h4/6qA\"hy>8INQM<vhof;>P)R<>Xgz\"kWnb lwL3LB</td>\n",
              "      <td id=\"T_edd8b_row0_col2\" class=\"data row0 col2\" >6</td>\n",
              "      <td id=\"T_edd8b_row0_col3\" class=\"data row0 col3\" >2</td>\n",
              "      <td id=\"T_edd8b_row0_col4\" class=\"data row0 col4\" >2</td>\n",
              "      <td id=\"T_edd8b_row0_col5\" class=\"data row0 col5\" >duplicate</td>\n",
              "    </tr>\n",
              "    <tr>\n",
              "      <th id=\"T_edd8b_level0_row1\" class=\"row_heading level0 row1\" >2550718</th>\n",
              "      <td id=\"T_edd8b_row1_col0\" class=\"data row1 col0\" >6Jt$xX=uNBl_Xo\"[C+o*6@ueY\\|G%Q!Lu:^mxs</td>\n",
              "      <td id=\"T_edd8b_row1_col1\" class=\"data row1 col1\" >{'~Gb6qkb%cFAEXmLgmYphp=.K6ey/Bm+6ZX<(K/N:</td>\n",
              "      <td id=\"T_edd8b_row1_col2\" class=\"data row1 col2\" >6</td>\n",
              "      <td id=\"T_edd8b_row1_col3\" class=\"data row1 col3\" >2</td>\n",
              "      <td id=\"T_edd8b_row1_col4\" class=\"data row1 col4\" >2</td>\n",
              "      <td id=\"T_edd8b_row1_col5\" class=\"data row1 col5\" >duplicate</td>\n",
              "    </tr>\n",
              "    <tr>\n",
              "      <th id=\"T_edd8b_level0_row2\" class=\"row_heading level0 row2\" >8562647</th>\n",
              "      <td id=\"T_edd8b_row2_col0\" class=\"data row2 col0\" >s]76-qtB%jjcJ:6[):fNl! },>(PK1] \\a\" `U</td>\n",
              "      <td id=\"T_edd8b_row2_col1\" class=\"data row2 col1\" >Q#FMCy$j=VqDn`|=(?22fCsdod_cDvz/G{>ZS@}_b&</td>\n",
              "      <td id=\"T_edd8b_row2_col2\" class=\"data row2 col2\" >3</td>\n",
              "      <td id=\"T_edd8b_row2_col3\" class=\"data row2 col3\" >1</td>\n",
              "      <td id=\"T_edd8b_row2_col4\" class=\"data row2 col4\" >1</td>\n",
              "      <td id=\"T_edd8b_row2_col5\" class=\"data row2 col5\" >duplicate</td>\n",
              "    </tr>\n",
              "    <tr>\n",
              "      <th id=\"T_edd8b_level0_row3\" class=\"row_heading level0 row3\" >9230262</th>\n",
              "      <td id=\"T_edd8b_row3_col0\" class=\"data row3 col0\" >zl`]UGQZk)M[ugn%DWuX; #/H4I9/7EP=Gn,8R</td>\n",
              "      <td id=\"T_edd8b_row3_col1\" class=\"data row3 col1\" >@TCJ2%\"9VLK+[Qws{lvVyY<}&'aOrF)#c~pOf1Jb0k</td>\n",
              "      <td id=\"T_edd8b_row3_col2\" class=\"data row3 col2\" >22</td>\n",
              "      <td id=\"T_edd8b_row3_col3\" class=\"data row3 col3\" >2</td>\n",
              "      <td id=\"T_edd8b_row3_col4\" class=\"data row3 col4\" >2</td>\n",
              "      <td id=\"T_edd8b_row3_col5\" class=\"data row3 col5\" >duplicate</td>\n",
              "    </tr>\n",
              "    <tr>\n",
              "      <th id=\"T_edd8b_level0_row4\" class=\"row_heading level0 row4\" >2814670</th>\n",
              "      <td id=\"T_edd8b_row4_col0\" class=\"data row4 col0\" >9@Ne(c9-`F:&61 t*t)mbDu;hh/'E9KQ;odr[></td>\n",
              "      <td id=\"T_edd8b_row4_col1\" class=\"data row4 col1\" >L4NjIpUkaV4%O+M%v\\:O52Q&e'OEv1Fcu7V_Xk53xy</td>\n",
              "      <td id=\"T_edd8b_row4_col2\" class=\"data row4 col2\" >4</td>\n",
              "      <td id=\"T_edd8b_row4_col3\" class=\"data row4 col3\" >2</td>\n",
              "      <td id=\"T_edd8b_row4_col4\" class=\"data row4 col4\" >2</td>\n",
              "      <td id=\"T_edd8b_row4_col5\" class=\"data row4 col5\" >duplicate</td>\n",
              "    </tr>\n",
              "  </tbody>\n",
              "</table>\n"
            ]
          },
          "metadata": {}
        }
      ]
    }
  ]
}